{
 "cells": [
  {
   "cell_type": "markdown",
   "metadata": {},
   "source": [
    "Item 43: Inherit from collections.abc for Custom Container Types"
   ]
  },
  {
   "cell_type": "markdown",
   "metadata": {},
   "source": [
    "# Simple case by subclassing list"
   ]
  },
  {
   "cell_type": "code",
   "execution_count": 4,
   "metadata": {},
   "outputs": [
    {
     "name": "stdout",
     "output_type": "stream",
     "text": [
      "Length is 7\n",
      "After pop:  ['a', 'b', 'a', 'c', 'b', 'a']\n",
      "Frequency:  {'a': 3, 'b': 2, 'c': 1}\n"
     ]
    }
   ],
   "source": [
    "class FrequencyList(list):\n",
    "    def __init__(self, members):\n",
    "        super().__init__(members)\n",
    "    \n",
    "    def frequency(self):\n",
    "        counts = {}\n",
    "        for item in self:\n",
    "            counts[item] = counts.get(item, 0) + 1\n",
    "        return counts\n",
    "\n",
    "foo = FrequencyList(['a', 'b', 'a', 'c', 'b', 'a', 'd'])\n",
    "print('Length is', len(foo))\n",
    "\n",
    "foo.pop()\n",
    "print('After pop: ', repr(foo))\n",
    "print('Frequency: ', foo.frequency())"
   ]
  },
  {
   "cell_type": "markdown",
   "metadata": {},
   "source": [
    "# built-in collections.abc module"
   ]
  },
  {
   "cell_type": "code",
   "execution_count": 9,
   "metadata": {},
   "outputs": [],
   "source": [
    "from collections.abc import Sequence"
   ]
  },
  {
   "cell_type": "code",
   "execution_count": 10,
   "metadata": {},
   "outputs": [
    {
     "ename": "TypeError",
     "evalue": "Can't instantiate abstract class BadType with abstract methods __getitem__, __len__",
     "output_type": "error",
     "traceback": [
      "\u001b[0;31m---------------------------------------------------------------------------\u001b[0m",
      "\u001b[0;31mTypeError\u001b[0m                                 Traceback (most recent call last)",
      "\u001b[0;32m<ipython-input-10-296e63e790aa>\u001b[0m in \u001b[0;36m<module>\u001b[0;34m\u001b[0m\n\u001b[1;32m      3\u001b[0m     \u001b[0;32mpass\u001b[0m\u001b[0;34m\u001b[0m\u001b[0;34m\u001b[0m\u001b[0m\n\u001b[1;32m      4\u001b[0m \u001b[0;34m\u001b[0m\u001b[0m\n\u001b[0;32m----> 5\u001b[0;31m \u001b[0mfoo\u001b[0m \u001b[0;34m=\u001b[0m \u001b[0mBadType\u001b[0m\u001b[0;34m(\u001b[0m\u001b[0;34m)\u001b[0m\u001b[0;34m\u001b[0m\u001b[0;34m\u001b[0m\u001b[0m\n\u001b[0m",
      "\u001b[0;31mTypeError\u001b[0m: Can't instantiate abstract class BadType with abstract methods __getitem__, __len__"
     ]
    }
   ],
   "source": [
    "# When you forgot to implement...\n",
    "class BadType(Sequence):\n",
    "    pass\n",
    "\n",
    "foo = BadType()"
   ]
  },
  {
   "cell_type": "code",
   "execution_count": 11,
   "metadata": {},
   "outputs": [],
   "source": [
    "class BetterNode(Sequence):\n",
    "    def __init__(self, value, left=None, right=None):\n",
    "        self.value = value\n",
    "        self.left = left\n",
    "        self.right = right\n",
    "        \n",
    "    def _traverse(self):\n",
    "        if self.left is not None:\n",
    "            yield from self.left._traverse()\n",
    "        yield self\n",
    "        if self.right is not None:\n",
    "            yield from self.right._traverse()\n",
    "        \n",
    "    def __getitem__(self, index):\n",
    "        for i, item in enumerate(self._traverse()):\n",
    "            if i == index:\n",
    "                return item.value\n",
    "        raise IndexError(f'Index {index} is out of range')\n",
    "    \n",
    "    def __len__(self):\n",
    "        for count, _ in enumerate(self._traverse(), 1):\n",
    "            pass\n",
    "        return count"
   ]
  },
  {
   "cell_type": "code",
   "execution_count": 12,
   "metadata": {},
   "outputs": [
    {
     "name": "stdout",
     "output_type": "stream",
     "text": [
      "LRR is  7\n",
      "Index 0 is  2\n",
      "Index 1 is  5\n",
      "11 in the tree?  True\n",
      "17 in the tree?  False\n",
      "Tree is  [2, 5, 6, 7, 10, 11, 15]\n",
      "Tree length is  7\n",
      "Index of 7 is  3\n",
      "Count of 10 is  1\n"
     ]
    }
   ],
   "source": [
    "tree = BetterNode(\n",
    "        10, \n",
    "        left = BetterNode(\n",
    "                5, \n",
    "                left = BetterNode(2),\n",
    "                right=BetterNode(\n",
    "                        6,\n",
    "                        right=BetterNode(7))),\n",
    "        right=BetterNode(\n",
    "                15,\n",
    "                left=BetterNode(11))\n",
    ")\n",
    "\n",
    "# __getitem__\n",
    "print('LRR is ', tree.left.right.right.value)\n",
    "print('Index 0 is ', tree[0])\n",
    "print('Index 1 is ', tree[1])\n",
    "print('11 in the tree? ', 11 in tree)\n",
    "print('17 in the tree? ', 17 in tree)\n",
    "print('Tree is ', list(tree))\n",
    "\n",
    "# __len__\n",
    "print('Tree length is ', len(tree))\n",
    "\n",
    "# Sequence\n",
    "print('Index of 7 is ', tree.index(7))\n",
    "print('Count of 10 is ', tree.count(10))"
   ]
  },
  {
   "cell_type": "code",
   "execution_count": null,
   "metadata": {},
   "outputs": [],
   "source": []
  }
 ],
 "metadata": {
  "kernelspec": {
   "display_name": "Python 3",
   "language": "python",
   "name": "python3"
  },
  "language_info": {
   "codemirror_mode": {
    "name": "ipython",
    "version": 3
   },
   "file_extension": ".py",
   "mimetype": "text/x-python",
   "name": "python",
   "nbconvert_exporter": "python",
   "pygments_lexer": "ipython3",
   "version": "3.8.0"
  },
  "toc": {
   "base_numbering": 1,
   "nav_menu": {},
   "number_sections": true,
   "sideBar": true,
   "skip_h1_title": false,
   "title_cell": "Table of Contents",
   "title_sidebar": "Contents",
   "toc_cell": false,
   "toc_position": {},
   "toc_section_display": true,
   "toc_window_display": false
  }
 },
 "nbformat": 4,
 "nbformat_minor": 2
}
