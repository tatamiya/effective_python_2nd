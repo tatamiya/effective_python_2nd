{
 "cells": [
  {
   "cell_type": "markdown",
   "metadata": {},
   "source": [
    "Item 47: Use \\_\\_getattr__, \\_\\_getattribute__, and \\_\\_setattr__ for Lazy Attributes"
   ]
  },
  {
   "cell_type": "markdown",
   "metadata": {},
   "source": [
    "# \\_\\_getattr__ VS \\_\\_getattribute__\n",
    "\n",
    "- \\_\\_getattr__ is called only at the first time\n",
    "- \\_\\_getattribute__ is called everytime"
   ]
  },
  {
   "cell_type": "code",
   "execution_count": 2,
   "metadata": {},
   "outputs": [],
   "source": [
    "class LazyRecord:\n",
    "    def __init__(self):\n",
    "        self.exists = 5\n",
    "    \n",
    "    def __getattr__(self, name):\n",
    "        value = f'value for {name}'\n",
    "        setattr(self, name, value)\n",
    "        return value"
   ]
  },
  {
   "cell_type": "code",
   "execution_count": 11,
   "metadata": {},
   "outputs": [],
   "source": [
    "class LoggingLazyRecord(LazyRecord):\n",
    "    def __getattr__(self, name):\n",
    "        print(f'* Called __getattr__({name!r}), '\n",
    "                  f'populating instance dictionary')\n",
    "        result = super().__getattr__(name)\n",
    "        print(f'* Returning {result!r}')\n",
    "        return result"
   ]
  },
  {
   "cell_type": "code",
   "execution_count": 13,
   "metadata": {},
   "outputs": [
    {
     "name": "stdout",
     "output_type": "stream",
     "text": [
      "exists:  5\n",
      "* Called __getattr__('foo'), populating instance dictionary\n",
      "* Returning 'value for foo'\n",
      "First foo:  value for foo\n",
      "Second foo:  value for foo\n"
     ]
    }
   ],
   "source": [
    "data = LoggingLazyRecord()\n",
    "print('exists: ', data.exists)\n",
    "print('First foo: ', data.foo)\n",
    "print('Second foo: ', data.foo)"
   ]
  },
  {
   "cell_type": "code",
   "execution_count": 7,
   "metadata": {},
   "outputs": [],
   "source": [
    "class ValidatingRecord:\n",
    "    def __init__(self):\n",
    "        self.exists = 5\n",
    "    \n",
    "    def __getattribute__(self, name):\n",
    "        print(f'* Called __getattribute__({name!r})')\n",
    "        try:\n",
    "            value = super().__getattribute__(name)\n",
    "            print(f'* Found {name!r}, returning {value!r}')\n",
    "            return value\n",
    "        except AttributeError:\n",
    "            value = f'Value for {name}'\n",
    "            print(f'* Setting {name!r} to {value!r}')\n",
    "            setattr(self, name, value)\n",
    "            return value"
   ]
  },
  {
   "cell_type": "code",
   "execution_count": 8,
   "metadata": {},
   "outputs": [
    {
     "name": "stdout",
     "output_type": "stream",
     "text": [
      "* Called __getattribute__('exists')\n",
      "* Found 'exists', returning 5\n",
      "exists:  5\n",
      "* Called __getattribute__('foo')\n",
      "* Setting 'foo' to 'Value for foo'\n",
      "First foo:  Value for foo\n",
      "* Called __getattribute__('foo')\n",
      "* Found 'foo', returning 'Value for foo'\n",
      "Second foo:  Value for foo\n"
     ]
    }
   ],
   "source": [
    "data = ValidatingRecord()\n",
    "print('exists: ', data.exists)\n",
    "print('First foo: ', data.foo)\n",
    "print('Second foo: ', data.foo)"
   ]
  },
  {
   "cell_type": "markdown",
   "metadata": {},
   "source": [
    "# \\_\\_setattr__"
   ]
  },
  {
   "cell_type": "code",
   "execution_count": 9,
   "metadata": {},
   "outputs": [],
   "source": [
    "class LoggingSavingRecord:\n",
    "    def __setattr__(self, name, value):\n",
    "        print(f'* Called __setattr__({name!r}, {value!r})')\n",
    "        super().__setattr__(name, value)"
   ]
  },
  {
   "cell_type": "code",
   "execution_count": 10,
   "metadata": {},
   "outputs": [
    {
     "name": "stdout",
     "output_type": "stream",
     "text": [
      "Before:  {}\n",
      "* Called __setattr__('foo', 5)\n",
      "After:  {'foo': 5}\n",
      "* Called __setattr__('foo', 7)\n",
      "Finally:  {'foo': 7}\n"
     ]
    }
   ],
   "source": [
    "data = LoggingSavingRecord()\n",
    "print('Before: ', data.__dict__)\n",
    "data.foo = 5\n",
    "print('After: ', data.__dict__)\n",
    "data.foo = 7\n",
    "print('Finally: ', data.__dict__)"
   ]
  },
  {
   "cell_type": "markdown",
   "metadata": {},
   "source": [
    "# Mix"
   ]
  },
  {
   "cell_type": "code",
   "execution_count": 14,
   "metadata": {},
   "outputs": [],
   "source": [
    "class NewValidatingRecord:\n",
    "    def __init__(self):\n",
    "        self.exists = 5\n",
    "    \n",
    "    def __setattr__(self, name, value):\n",
    "        print(f'* Called __setattr__({name!r}, {value!r})')\n",
    "        super().__setattr__(name, value)\n",
    "    \n",
    "    def __getattribute__(self, name):\n",
    "        print(f'* Called __getattribute__({name!r})')\n",
    "        try:\n",
    "            value = super().__getattribute__(name)\n",
    "            print(f'* Found {name!r}, returning {value!r}')\n",
    "            return value\n",
    "        except AttributeError:\n",
    "            value = f'Value for {name}'\n",
    "            print(f'* Setting {name!r} to {value!r}')\n",
    "            setattr(self, name, value)\n",
    "            return value"
   ]
  },
  {
   "cell_type": "code",
   "execution_count": 15,
   "metadata": {},
   "outputs": [
    {
     "name": "stdout",
     "output_type": "stream",
     "text": [
      "* Called __setattr__('exists', 5)\n",
      "* Called __getattribute__('exists')\n",
      "* Found 'exists', returning 5\n",
      "exists:  5\n",
      "* Called __getattribute__('foo')\n",
      "* Setting 'foo' to 'Value for foo'\n",
      "* Called __setattr__('foo', 'Value for foo')\n",
      "First foo:  Value for foo\n",
      "* Called __getattribute__('foo')\n",
      "* Found 'foo', returning 'Value for foo'\n",
      "Second foo:  Value for foo\n"
     ]
    }
   ],
   "source": [
    "data = NewValidatingRecord()\n",
    "print('exists: ', data.exists)\n",
    "print('First foo: ', data.foo)\n",
    "print('Second foo: ', data.foo)"
   ]
  },
  {
   "cell_type": "markdown",
   "metadata": {},
   "source": [
    "# Avoid roop"
   ]
  },
  {
   "cell_type": "code",
   "execution_count": 3,
   "metadata": {},
   "outputs": [],
   "source": [
    "class DictionaryRecord:\n",
    "    def __init__(self, data):\n",
    "        self._data = data\n",
    "    \n",
    "    def __getattribute__(self, name):\n",
    "        print(f'* Called __getattribute__({name!r})')\n",
    "        # Don't just get self._data[name]. It is also got via __getattribute__ and rooped!\n",
    "        data_dict = super().__getattribute__('_data')\n",
    "        return data_dict[name]"
   ]
  },
  {
   "cell_type": "code",
   "execution_count": 4,
   "metadata": {},
   "outputs": [
    {
     "name": "stdout",
     "output_type": "stream",
     "text": [
      "* Called __getattribute__('foo')\n"
     ]
    },
    {
     "data": {
      "text/plain": [
       "3"
      ]
     },
     "execution_count": 4,
     "metadata": {},
     "output_type": "execute_result"
    }
   ],
   "source": [
    "data = DictionaryRecord({'foo': 3})\n",
    "data.foo"
   ]
  },
  {
   "cell_type": "code",
   "execution_count": null,
   "metadata": {},
   "outputs": [],
   "source": []
  }
 ],
 "metadata": {
  "kernelspec": {
   "display_name": "Python 3",
   "language": "python",
   "name": "python3"
  },
  "language_info": {
   "codemirror_mode": {
    "name": "ipython",
    "version": 3
   },
   "file_extension": ".py",
   "mimetype": "text/x-python",
   "name": "python",
   "nbconvert_exporter": "python",
   "pygments_lexer": "ipython3",
   "version": "3.8.0"
  },
  "toc": {
   "base_numbering": 1,
   "nav_menu": {},
   "number_sections": true,
   "sideBar": true,
   "skip_h1_title": false,
   "title_cell": "Table of Contents",
   "title_sidebar": "Contents",
   "toc_cell": false,
   "toc_position": {},
   "toc_section_display": true,
   "toc_window_display": false
  }
 },
 "nbformat": 4,
 "nbformat_minor": 2
}
