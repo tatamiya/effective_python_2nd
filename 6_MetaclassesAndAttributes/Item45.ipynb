{
 "cells": [
  {
   "cell_type": "markdown",
   "metadata": {},
   "source": [
    "Item 45: Consider @property Insterad of Refactoring Attributes"
   ]
  },
  {
   "cell_type": "code",
   "execution_count": 1,
   "metadata": {},
   "outputs": [],
   "source": [
    "from datetime import datetime, timedelta"
   ]
  },
  {
   "cell_type": "code",
   "execution_count": 5,
   "metadata": {},
   "outputs": [],
   "source": [
    "class Bucket:\n",
    "    def __init__(self, period):\n",
    "        self.period_delta = timedelta(seconds=period)\n",
    "        self.reset_time = datetime.now()\n",
    "        self.max_quota = 0\n",
    "        self.quota_consumed = 0\n",
    "    \n",
    "    def __repr__(self):\n",
    "        return(f'Bucket(max_quota={self.max_quota}, '\n",
    "                    f'quota_consumed={self.quota_consumed})')\n",
    "    \n",
    "    @property\n",
    "    def quota(self):\n",
    "        return self.max_quota - self.quota_consumed\n",
    "    \n",
    "    @quota.setter\n",
    "    def quota(self, amount):\n",
    "        delta = self.max_quota - amount\n",
    "        if amount == 0:\n",
    "            # Quota being reset for a new period\n",
    "            self.quota_consumed = 0\n",
    "            self.max_quota = 0\n",
    "        elif delta < 0:\n",
    "            # Quota being filled for the new period\n",
    "            assert self.quota_consumed == 0\n",
    "            self.max_quota = amount\n",
    "        else:\n",
    "            # Quota being consumed during the period\n",
    "            assert self.max_quota >= self.quota_consumed\n",
    "            self.quota_consumed += delta\n",
    "\n",
    "\n",
    "def fill(bucket, amount):\n",
    "    now = datetime.now()\n",
    "    if (now - bucket.reset_time) > bucket.period_delta:\n",
    "        bucket.quota = 0\n",
    "        bucket.reset_time = now\n",
    "    bucket.quota += amount\n",
    "    \n",
    "\n",
    "def deduct(bucket, amount):\n",
    "    now = datetime.now()\n",
    "    if (now - bucket.reset_time) > bucket.period_delta:\n",
    "        return False # Bucket hasn't been filled this period\n",
    "    if bucket.quota - amount < 0:\n",
    "        return False # Bucket was filled, but not enough\n",
    "    \n",
    "    bucket.quota -= amount\n",
    "    return True"
   ]
  },
  {
   "cell_type": "code",
   "execution_count": 22,
   "metadata": {},
   "outputs": [
    {
     "name": "stdout",
     "output_type": "stream",
     "text": [
      "Initial Bucket(max_quota=0, quota_consumed=0)\n",
      "Filled Bucket(max_quota=100, quota_consumed=0)\n",
      "Had 99 quota\n",
      "Now  Bucket(max_quota=100, quota_consumed=99)\n",
      "Not enought for 3 quota\n",
      "Still  Bucket(max_quota=100, quota_consumed=99)\n"
     ]
    }
   ],
   "source": [
    "bucket = Bucket(60)\n",
    "print('Initial', bucket)\n",
    "fill(bucket, 100)\n",
    "print('Filled', bucket)\n",
    "\n",
    "if deduct(bucket, 99):\n",
    "    print('Had 99 quota')\n",
    "else:\n",
    "    print('Not enough for 99 quota')\n",
    "print('Now ', bucket)\n",
    "\n",
    "if deduct(bucket, 3):\n",
    "    print('Had 3 quota')\n",
    "else:\n",
    "    print('Not enought for 3 quota')\n",
    "print('Still ', bucket)"
   ]
  },
  {
   "cell_type": "code",
   "execution_count": 23,
   "metadata": {},
   "outputs": [
    {
     "ename": "AssertionError",
     "evalue": "",
     "output_type": "error",
     "traceback": [
      "\u001b[0;31m---------------------------------------------------------------------------\u001b[0m",
      "\u001b[0;31mAssertionError\u001b[0m                            Traceback (most recent call last)",
      "\u001b[0;32m<ipython-input-23-0b67d294948a>\u001b[0m in \u001b[0;36m<module>\u001b[0;34m\u001b[0m\n\u001b[0;32m----> 1\u001b[0;31m \u001b[0mfill\u001b[0m\u001b[0;34m(\u001b[0m\u001b[0mbucket\u001b[0m\u001b[0;34m,\u001b[0m \u001b[0;36m200\u001b[0m\u001b[0;34m)\u001b[0m\u001b[0;34m\u001b[0m\u001b[0;34m\u001b[0m\u001b[0m\n\u001b[0m",
      "\u001b[0;32m<ipython-input-5-bc244ebbe636>\u001b[0m in \u001b[0;36mfill\u001b[0;34m(bucket, amount)\u001b[0m\n\u001b[1;32m     36\u001b[0m         \u001b[0mbucket\u001b[0m\u001b[0;34m.\u001b[0m\u001b[0mquota\u001b[0m \u001b[0;34m=\u001b[0m \u001b[0;36m0\u001b[0m\u001b[0;34m\u001b[0m\u001b[0;34m\u001b[0m\u001b[0m\n\u001b[1;32m     37\u001b[0m         \u001b[0mbucket\u001b[0m\u001b[0;34m.\u001b[0m\u001b[0mreset_time\u001b[0m \u001b[0;34m=\u001b[0m \u001b[0mnow\u001b[0m\u001b[0;34m\u001b[0m\u001b[0;34m\u001b[0m\u001b[0m\n\u001b[0;32m---> 38\u001b[0;31m     \u001b[0mbucket\u001b[0m\u001b[0;34m.\u001b[0m\u001b[0mquota\u001b[0m \u001b[0;34m+=\u001b[0m \u001b[0mamount\u001b[0m\u001b[0;34m\u001b[0m\u001b[0;34m\u001b[0m\u001b[0m\n\u001b[0m\u001b[1;32m     39\u001b[0m \u001b[0;34m\u001b[0m\u001b[0m\n\u001b[1;32m     40\u001b[0m \u001b[0;34m\u001b[0m\u001b[0m\n",
      "\u001b[0;32m<ipython-input-5-bc244ebbe636>\u001b[0m in \u001b[0;36mquota\u001b[0;34m(self, amount)\u001b[0m\n\u001b[1;32m     23\u001b[0m         \u001b[0;32melif\u001b[0m \u001b[0mdelta\u001b[0m \u001b[0;34m<\u001b[0m \u001b[0;36m0\u001b[0m\u001b[0;34m:\u001b[0m\u001b[0;34m\u001b[0m\u001b[0;34m\u001b[0m\u001b[0m\n\u001b[1;32m     24\u001b[0m             \u001b[0;31m# Quota being filled for the new period\u001b[0m\u001b[0;34m\u001b[0m\u001b[0;34m\u001b[0m\u001b[0;34m\u001b[0m\u001b[0m\n\u001b[0;32m---> 25\u001b[0;31m             \u001b[0;32massert\u001b[0m \u001b[0mself\u001b[0m\u001b[0;34m.\u001b[0m\u001b[0mquota_consumed\u001b[0m \u001b[0;34m==\u001b[0m \u001b[0;36m0\u001b[0m\u001b[0;34m\u001b[0m\u001b[0;34m\u001b[0m\u001b[0m\n\u001b[0m\u001b[1;32m     26\u001b[0m             \u001b[0mself\u001b[0m\u001b[0;34m.\u001b[0m\u001b[0mmax_quota\u001b[0m \u001b[0;34m=\u001b[0m \u001b[0mamount\u001b[0m\u001b[0;34m\u001b[0m\u001b[0;34m\u001b[0m\u001b[0m\n\u001b[1;32m     27\u001b[0m         \u001b[0;32melse\u001b[0m\u001b[0;34m:\u001b[0m\u001b[0;34m\u001b[0m\u001b[0;34m\u001b[0m\u001b[0m\n",
      "\u001b[0;31mAssertionError\u001b[0m: "
     ]
    }
   ],
   "source": [
    "fill(bucket, 200)"
   ]
  },
  {
   "cell_type": "code",
   "execution_count": 8,
   "metadata": {},
   "outputs": [],
   "source": [
    "import time"
   ]
  },
  {
   "cell_type": "code",
   "execution_count": 24,
   "metadata": {},
   "outputs": [
    {
     "name": "stdout",
     "output_type": "stream",
     "text": [
      "quota:  1\n"
     ]
    },
    {
     "data": {
      "text/plain": [
       "False"
      ]
     },
     "execution_count": 24,
     "metadata": {},
     "output_type": "execute_result"
    }
   ],
   "source": [
    "time.sleep(60)\n",
    "print('quota: ', bucket.quota)\n",
    "deduct(bucket, 1)"
   ]
  },
  {
   "cell_type": "code",
   "execution_count": 25,
   "metadata": {},
   "outputs": [
    {
     "data": {
      "text/plain": [
       "False"
      ]
     },
     "execution_count": 25,
     "metadata": {},
     "output_type": "execute_result"
    }
   ],
   "source": [
    "deduct(bucket, 0)"
   ]
  },
  {
   "cell_type": "code",
   "execution_count": null,
   "metadata": {},
   "outputs": [],
   "source": []
  }
 ],
 "metadata": {
  "kernelspec": {
   "display_name": "Python 3",
   "language": "python",
   "name": "python3"
  },
  "language_info": {
   "codemirror_mode": {
    "name": "ipython",
    "version": 3
   },
   "file_extension": ".py",
   "mimetype": "text/x-python",
   "name": "python",
   "nbconvert_exporter": "python",
   "pygments_lexer": "ipython3",
   "version": "3.8.0"
  },
  "toc": {
   "base_numbering": 1,
   "nav_menu": {},
   "number_sections": true,
   "sideBar": true,
   "skip_h1_title": false,
   "title_cell": "Table of Contents",
   "title_sidebar": "Contents",
   "toc_cell": false,
   "toc_position": {},
   "toc_section_display": true,
   "toc_window_display": false
  }
 },
 "nbformat": 4,
 "nbformat_minor": 2
}
